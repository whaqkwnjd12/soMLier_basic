{
  "nbformat": 4,
  "nbformat_minor": 0,
  "metadata": {
    "colab": {
      "name": "base.ipynb",
      "provenance": [],
      "collapsed_sections": [],
      "authorship_tag": "ABX9TyOBcIhMkDU9HwTXuctGPVmz",
      "include_colab_link": true
    },
    "kernelspec": {
      "name": "python3",
      "display_name": "Python 3"
    },
    "language_info": {
      "name": "python"
    }
  },
  "cells": [
    {
      "cell_type": "markdown",
      "metadata": {
        "id": "view-in-github",
        "colab_type": "text"
      },
      "source": [
        "<a href=\"https://colab.research.google.com/github/whaqkwnjd12/soMLier_basic/blob/main/base.ipynb\" target=\"_parent\"><img src=\"https://colab.research.google.com/assets/colab-badge.svg\" alt=\"Open In Colab\"/></a>"
      ]
    },
    {
      "cell_type": "markdown",
      "metadata": {
        "id": "EERW-rmC6R1x"
      },
      "source": [
        "Basic python"
      ]
    },
    {
      "cell_type": "code",
      "metadata": {
        "id": "ThkPqqcRvwvO"
      },
      "source": [
        "import numpy as np\n",
        "import torch as tc\n",
        "import matplotlib.pyplot as plt\n",
        "%matplotlib inline"
      ],
      "execution_count": 20,
      "outputs": []
    },
    {
      "cell_type": "code",
      "metadata": {
        "colab": {
          "base_uri": "https://localhost:8080/"
        },
        "id": "y3HDfFxpyUf2",
        "outputId": "d3d80ab7-997f-49a5-d5c7-c98a64d2db5c"
      },
      "source": [
        "arr = [1, 2, 3, 4, 5]\n",
        "nparr = np.array(arr)\n",
        "nparr1 = np.array([1.,2.,3.,4.,5])\n",
        "nparr == nparr1"
      ],
      "execution_count": 11,
      "outputs": [
        {
          "output_type": "execute_result",
          "data": {
            "text/plain": [
              "array([ True,  True,  True,  True,  True])"
            ]
          },
          "metadata": {},
          "execution_count": 11
        }
      ]
    },
    {
      "cell_type": "code",
      "metadata": {
        "colab": {
          "base_uri": "https://localhost:8080/"
        },
        "id": "4Ze67qa_z51_",
        "outputId": "36880b5f-455d-4929-c919-e39dce5d21ab"
      },
      "source": [
        "np.shape(nparr)"
      ],
      "execution_count": 12,
      "outputs": [
        {
          "output_type": "execute_result",
          "data": {
            "text/plain": [
              "(5,)"
            ]
          },
          "metadata": {},
          "execution_count": 12
        }
      ]
    },
    {
      "cell_type": "code",
      "metadata": {
        "id": "ow2nDwR6z70i"
      },
      "source": [
        "X_train = tc.FloatTensor([[1,2,3]])\n",
        "y_train = tc.FloatTensor([[2, 4, 6]])\n"
      ],
      "execution_count": 33,
      "outputs": []
    },
    {
      "cell_type": "code",
      "metadata": {
        "colab": {
          "base_uri": "https://localhost:8080/",
          "height": 283
        },
        "id": "eyGZji5z1QaD",
        "outputId": "6d19adec-f378-47b0-c0b5-7e1ce4363f5a"
      },
      "source": [
        "\n",
        "plt.scatter(X_train, y_train)"
      ],
      "execution_count": 23,
      "outputs": [
        {
          "output_type": "execute_result",
          "data": {
            "text/plain": [
              "<matplotlib.collections.PathCollection at 0x7f6ec9634410>"
            ]
          },
          "metadata": {},
          "execution_count": 23
        },
        {
          "output_type": "display_data",
          "data": {
            "image/png": "[encoded data removed]",
            "text/plain": [
              "<Figure size 432x288 with 1 Axes>"
            ]
          },
          "metadata": {
            "needs_background": "light"
          }
        }
      ]
    },
    {
      "cell_type": "code",
      "metadata": {
        "id": "ntV76iFn2Hgl"
      },
      "source": [
        "X = np.linspace(0, 10, 11)\n",
        "y = np.linspace(0, 10, 11)"
      ],
      "execution_count": 26,
      "outputs": []
    },
    {
      "cell_type": "code",
      "metadata": {
        "colab": {
          "base_uri": "https://localhost:8080/",
          "height": 283
        },
        "id": "GZFJ--ni2M9e",
        "outputId": "f7b61466-fd63-480f-8647-f449a114dffa"
      },
      "source": [
        "plt.plot(X,y)"
      ],
      "execution_count": 28,
      "outputs": [
        {
          "output_type": "execute_result",
          "data": {
            "text/plain": [
              "[<matplotlib.lines.Line2D at 0x7f6ec9107290>]"
            ]
          },
          "metadata": {},
          "execution_count": 28
        },
        {
          "output_type": "display_data",
          "data": {
            "image/png": "[encoded data removed]",
            "text/plain": [
              "<Figure size 432x288 with 1 Axes>"
            ]
          },
          "metadata": {
            "needs_background": "light"
          }
        }
      ]
    },
    {
      "cell_type": "code",
      "metadata": {
        "id": "2148hGXC9VQD"
      },
      "source": [
        ""
      ],
      "execution_count": null,
      "outputs": []
    },
    {
      "cell_type": "code",
      "metadata": {
        "id": "iTekG0ZD3UHl"
      },
      "source": [
        "W = tc.zeros(1, requires_grad = True)\n",
        "b = tc.zeros(1, requires_grad=True)\n",
        "n_data = len(X_train)"
      ],
      "execution_count": 41,
      "outputs": []
    },
    {
      "cell_type": "code",
      "metadata": {
        "id": "V7duJs2r3xiZ"
      },
      "source": [
        "num_epochs = 5000\n",
        "learning_rate = 0.01\n",
        "import torch.nn as nn\n",
        "import torch.nn.functional as F\n",
        "from torch import optim"
      ],
      "execution_count": 50,
      "outputs": []
    },
    {
      "cell_type": "code",
      "metadata": {
        "colab": {
          "base_uri": "https://localhost:8080/"
        },
        "id": "XX1MCPo55lOC",
        "outputId": "afe17fc0-f907-47ba-d0a7-7313f9097b1c"
      },
      "source": [
        "print(cost)\n",
        "print(W)\n",
        "print(b)"
      ],
      "execution_count": 45,
      "outputs": [
        {
          "output_type": "stream",
          "name": "stdout",
          "text": [
            "tensor(18.6667, grad_fn=<MeanBackward0>)\n",
            "tensor([0.], requires_grad=True)\n",
            "tensor([0.], requires_grad=True)\n"
          ]
        }
      ]
    },
    {
      "cell_type": "code",
      "metadata": {
        "colab": {
          "base_uri": "https://localhost:8080/"
        },
        "id": "cDCYQ-gz8JYC",
        "outputId": "1a0effca-6643-49b2-86e5-09dc836c9ae6"
      },
      "source": [
        "num_epochs = 1000\n",
        "W = tc.zeros(1, requires_grad = True)\n",
        "b = tc.zeros(1, requires_grad=True)\n",
        "for epoch in range(num_epochs):\n",
        "    hypothesis = X_train * W + b\n",
        "    cost = tc.mean((hypothesis-y_train)**2)\n",
        "    optimizer = optim.SGD([W, b], lr = 0.01) #grad초기화\n",
        "    cost.backward() #cost의 기울기 계산\n",
        "    optimizer.step()    # W와 b업데이트\n",
        "\n",
        "    if epoch%100 == 0:\n",
        "        print(\"Epoch{:4d} ,W:{:.3f},  b:{:.3f} , Cost:{:.6f}\".format(epoch,W.item(), b.item(), cost.item()))"
      ],
      "execution_count": 58,
      "outputs": [
        {
          "output_type": "stream",
          "name": "stdout",
          "text": [
            "Epoch   0 ,W:0.187,  b:0.080 , Cost:18.666666\n",
            "Epoch 100 ,W:3.324,  b:0.813 , Cost:6.868920\n",
            "Epoch 200 ,W:2.492,  b:-0.574 , Cost:3.728168\n",
            "Epoch 300 ,W:0.603,  b:-1.145 , Cost:19.134199\n",
            "Epoch 400 ,W:3.039,  b:1.046 , Cost:4.392552\n",
            "Epoch 500 ,W:2.165,  b:0.826 , Cost:6.115269\n",
            "Epoch 600 ,W:0.450,  b:-0.984 , Cost:18.843632\n",
            "Epoch 700 ,W:3.398,  b:-0.254 , Cost:2.352154\n",
            "Epoch 800 ,W:2.685,  b:0.274 , Cost:8.753024\n",
            "Epoch 900 ,W:-0.012,  b:-0.027 , Cost:17.854650\n"
          ]
        }
      ]
    },
    {
      "cell_type": "code",
      "metadata": {
        "id": "5u-Xpj_i83Yn"
      },
      "source": [
        ""
      ],
      "execution_count": null,
      "outputs": []
    }
  ]
}